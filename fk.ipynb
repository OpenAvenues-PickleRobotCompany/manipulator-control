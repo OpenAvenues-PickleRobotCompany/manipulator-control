{
 "cells": [
  {
   "cell_type": "code",
   "execution_count": 2,
   "metadata": {},
   "outputs": [
    {
     "name": "stdout",
     "output_type": "stream",
     "text": [
      "Position of end effector in base frame:\n",
      "⎡l₁⋅cos(θ₁) + l₂⋅cos(θ₁ + θ₂)⎤\n",
      "⎢                            ⎥\n",
      "⎢l₁⋅sin(θ₁) + l₂⋅sin(θ₁ + θ₂)⎥\n",
      "⎢                            ⎥\n",
      "⎣             0              ⎦\n",
      "Rotation of end effector with regards to base frame:\n",
      "⎡cos(θ₁ + θ₂)  -sin(θ₁ + θ₂)   0 ⎤\n",
      "⎢                                ⎥\n",
      "⎢sin(θ₁ + θ₂)  cos(θ₁ + θ₂)    0 ⎥\n",
      "⎢                                ⎥\n",
      "⎣     0              0        1.0⎦\n"
     ]
    }
   ],
   "source": [
    "from sympy import symbols, cos, sin, Matrix, simplify, init_printing, pprint\n",
    "init_printing()\n",
    "\n",
    "\n",
    "l1, l2 = symbols('l1 l2')\n",
    "theta1, theta2 = symbols('theta1 theta2')\n",
    "\n",
    "link_1 = Matrix([l1, 0., 0.])\n",
    "\n",
    "\n",
    "link_2 = Matrix([l2, 0., 0.])\n",
    "\n",
    "def Rz(theta) -> Matrix:\n",
    "    return Matrix([[cos(theta), -sin(theta), 0.],\n",
    "    [sin(theta), cos(theta), 0.],\n",
    "    [0.,0.,1.]])\n",
    "\n",
    "R_0_1 = Rz(theta1)\n",
    "R_1_2 = Rz(theta2)\n",
    "\n",
    "p_0_1 = R_0_1 @ link_1\n",
    "p_1_2 = R_1_2 @ link_2\n",
    "p_0_2 = p_0_1 + R_0_1 @ p_1_2\n",
    "\n",
    "print('Position of end effector in base frame:')\n",
    "pprint(simplify(p_0_2))\n",
    "\n",
    "print('Rotation of end effector with regards to base frame:')\n",
    "pprint(simplify(R_0_1 @ R_1_2))"
   ]
  }
 ],
 "metadata": {
  "kernelspec": {
   "display_name": "Python 3",
   "language": "python",
   "name": "python3"
  },
  "language_info": {
   "codemirror_mode": {
    "name": "ipython",
    "version": 3
   },
   "file_extension": ".py",
   "mimetype": "text/x-python",
   "name": "python",
   "nbconvert_exporter": "python",
   "pygments_lexer": "ipython3",
   "version": "3.11.2"
  },
  "orig_nbformat": 4,
  "vscode": {
   "interpreter": {
    "hash": "5238573367df39f7286bb46f9ff5f08f63a01a80960060ce41e3c79b190280fa"
   }
  }
 },
 "nbformat": 4,
 "nbformat_minor": 2
}
